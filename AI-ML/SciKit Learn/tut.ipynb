{
 "cells": [
  {
   "cell_type": "code",
   "execution_count": 6,
   "id": "3abb765d-b15e-4c9a-8a6c-95fdff2399e8",
   "metadata": {},
   "outputs": [],
   "source": [
    "import pandas as pd\n",
    "import json as j"
   ]
  },
  {
   "cell_type": "code",
   "execution_count": 7,
   "id": "3e29ec43",
   "metadata": {},
   "outputs": [],
   "source": [
    "class Sentiment:\n",
    "    POSITIVE=\"POSITIVE\"\n",
    "    NEGATIVE=\"NEGATIVE\"\n",
    "    NORMAL=\"NORMAL\"\n",
    "\n",
    "class Review:\n",
    "    def __init__(self,name,score):\n",
    "        self.name=name\n",
    "        self.score=score\n",
    "        self.sentiment=self.get_sentiment()\n",
    "        \n",
    "    def get_sentiment(self):\n",
    "        if self.score<=2:\n",
    "            return Sentiment.NEGATIVE\n",
    "        elif self.score==3:\n",
    "            return Sentiment.NORMAL\n",
    "        else:\n",
    "            return Sentiment.POSITIVE"
   ]
  },
  {
   "cell_type": "code",
   "execution_count": 8,
   "id": "3e25fdd6-c1ba-4cda-a840-f57a0bea0149",
   "metadata": {},
   "outputs": [],
   "source": [
    "file_name=\"./data/Books_small.txt\"\n",
    "reviews=[]\n",
    "with open(file_name) as f:\n",
    "    for line in f:\n",
    "        revive=j.loads(line)\n",
    "        reviews.append(Review(revive[\"reviewText\"],revive[\"overall\"]))"
   ]
  },
  {
   "cell_type": "code",
   "execution_count": null,
   "id": "c7490fae",
   "metadata": {},
   "outputs": [
    {
     "name": "stdout",
     "output_type": "stream",
     "text": [
      "POSITIVE\n",
      "NEGITIVE\n",
      "POSITIVE\n",
      "POSITIVE\n",
      "POSITIVE\n",
      "POSITIVE\n",
      "POSITIVE\n",
      "POSITIVE\n",
      "POSITIVE\n",
      "POSITIVE\n"
     ]
    }
   ],
   "source": [
    "from sklearn.model_selection import train_test_split\n",
    "\n",
    "\n",
    "\n"
   ]
  },
  {
   "cell_type": "code",
   "execution_count": null,
   "id": "fb6e33ed",
   "metadata": {},
   "outputs": [],
   "source": []
  }
 ],
 "metadata": {
  "kernelspec": {
   "display_name": ".venv",
   "language": "python",
   "name": "python3"
  },
  "language_info": {
   "codemirror_mode": {
    "name": "ipython",
    "version": 3
   },
   "file_extension": ".py",
   "mimetype": "text/x-python",
   "name": "python",
   "nbconvert_exporter": "python",
   "pygments_lexer": "ipython3",
   "version": "3.13.3"
  }
 },
 "nbformat": 4,
 "nbformat_minor": 5
}
