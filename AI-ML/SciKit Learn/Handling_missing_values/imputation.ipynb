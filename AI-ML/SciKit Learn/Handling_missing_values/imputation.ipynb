{
 "cells": [
  {
   "cell_type": "code",
   "execution_count": 3,
   "id": "d08b3778",
   "metadata": {},
   "outputs": [],
   "source": [
    "from sklearn.impute import SimpleImputer\n",
    "import numpy as np"
   ]
  },
  {
   "cell_type": "markdown",
   "id": "80b87170",
   "metadata": {},
   "source": [
    "Using imputer like mean, median, mode, constat"
   ]
  },
  {
   "cell_type": "code",
   "execution_count": 5,
   "id": "65aed223",
   "metadata": {},
   "outputs": [],
   "source": [
    "data=np.array([\n",
    "    [1,23,np.nan],\n",
    "    [12,np.nan,5],\n",
    "    [np.nan,20,7]  \n",
    "])"
   ]
  },
  {
   "cell_type": "code",
   "execution_count": null,
   "id": "6535740e",
   "metadata": {},
   "outputs": [
    {
     "name": "stdout",
     "output_type": "stream",
     "text": [
      "[[ 1. 23. nan]\n",
      " [12. nan  5.]\n",
      " [nan 20.  7.]]\n",
      "[[ 1.  23.   6. ]\n",
      " [12.  21.5  5. ]\n",
      " [ 6.5 20.   7. ]]\n"
     ]
    }
   ],
   "source": [
    "mean_imputer=SimpleImputer(strategy=\"mean\")\n",
    "mean_imputed_data=mean_imputer.fit_transform(data)\n",
    "print(data)\n",
    "print(mean_imputed_data)"
   ]
  },
  {
   "cell_type": "code",
   "execution_count": 7,
   "id": "7f28d7a2",
   "metadata": {},
   "outputs": [
    {
     "name": "stdout",
     "output_type": "stream",
     "text": [
      "[[ 1. 23. nan]\n",
      " [12. nan  5.]\n",
      " [nan 20.  7.]]\n",
      "[[ 1.  23.   6. ]\n",
      " [12.  21.5  5. ]\n",
      " [ 6.5 20.   7. ]]\n"
     ]
    }
   ],
   "source": [
    "median_imputer=SimpleImputer(strategy=\"median\")\n",
    "median_imputed_data=median_imputer.fit_transform(data)\n",
    "print(data)\n",
    "print(median_imputed_data)"
   ]
  },
  {
   "cell_type": "code",
   "execution_count": 10,
   "id": "e3613b38",
   "metadata": {},
   "outputs": [
    {
     "name": "stdout",
     "output_type": "stream",
     "text": [
      "[[ 1. 23. nan]\n",
      " [12. nan  5.]\n",
      " [nan 20.  7.]]\n",
      "[[ 1. 23.  5.]\n",
      " [12. 20.  5.]\n",
      " [ 1. 20.  7.]]\n"
     ]
    }
   ],
   "source": [
    "most_frequent_imputer=SimpleImputer(strategy=\"most_frequent\")\n",
    "most_frequent_data=most_frequent_imputer.fit_transform(data)\n",
    "print(data)\n",
    "print(most_frequent_data)"
   ]
  },
  {
   "cell_type": "markdown",
   "id": "592b9b64",
   "metadata": {},
   "source": [
    "KNN"
   ]
  },
  {
   "cell_type": "code",
   "execution_count": 11,
   "id": "f289df6f",
   "metadata": {},
   "outputs": [],
   "source": [
    "from sklearn.impute import KNNImputer\n"
   ]
  },
  {
   "cell_type": "code",
   "execution_count": 12,
   "id": "dc90b74f",
   "metadata": {},
   "outputs": [
    {
     "name": "stdout",
     "output_type": "stream",
     "text": [
      "[[ 1. 23. nan]\n",
      " [12. nan  5.]\n",
      " [nan 20.  7.]]\n",
      "[[ 1.  23.   6. ]\n",
      " [12.  21.5  5. ]\n",
      " [ 6.5 20.   7. ]]\n"
     ]
    }
   ],
   "source": [
    "KNN_imputer=KNNImputer(n_neighbors=2)\n",
    "KNN_imputed_data=KNN_imputer.fit_transform(data)\n",
    "print(data)\n",
    "print(KNN_imputed_data)"
   ]
  },
  {
   "cell_type": "code",
   "execution_count": null,
   "id": "6acc2204",
   "metadata": {},
   "outputs": [],
   "source": []
  }
 ],
 "metadata": {
  "kernelspec": {
   "display_name": ".venv",
   "language": "python",
   "name": "python3"
  },
  "language_info": {
   "codemirror_mode": {
    "name": "ipython",
    "version": 3
   },
   "file_extension": ".py",
   "mimetype": "text/x-python",
   "name": "python",
   "nbconvert_exporter": "python",
   "pygments_lexer": "ipython3",
   "version": "3.13.3"
  }
 },
 "nbformat": 4,
 "nbformat_minor": 5
}
