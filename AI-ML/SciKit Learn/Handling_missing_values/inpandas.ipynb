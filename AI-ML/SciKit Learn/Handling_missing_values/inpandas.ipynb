{
 "cells": [
  {
   "cell_type": "code",
   "execution_count": 1,
   "id": "2a178d13",
   "metadata": {},
   "outputs": [],
   "source": [
    "import pandas as pd\n",
    "import numpy as np"
   ]
  },
  {
   "cell_type": "code",
   "execution_count": 2,
   "id": "7a5773a9",
   "metadata": {},
   "outputs": [],
   "source": [
    "file_name=\"../data/bios.csv\"\n",
    "df=pd.read_csv(file_name)"
   ]
  },
  {
   "cell_type": "code",
   "execution_count": 3,
   "id": "10c00813",
   "metadata": {},
   "outputs": [
    {
     "data": {
      "text/html": [
       "<div>\n",
       "<style scoped>\n",
       "    .dataframe tbody tr th:only-of-type {\n",
       "        vertical-align: middle;\n",
       "    }\n",
       "\n",
       "    .dataframe tbody tr th {\n",
       "        vertical-align: top;\n",
       "    }\n",
       "\n",
       "    .dataframe thead th {\n",
       "        text-align: right;\n",
       "    }\n",
       "</style>\n",
       "<table border=\"1\" class=\"dataframe\">\n",
       "  <thead>\n",
       "    <tr style=\"text-align: right;\">\n",
       "      <th></th>\n",
       "      <th>athlete_id</th>\n",
       "      <th>name</th>\n",
       "      <th>born_date</th>\n",
       "      <th>born_city</th>\n",
       "      <th>born_region</th>\n",
       "      <th>born_country</th>\n",
       "      <th>NOC</th>\n",
       "      <th>height_cm</th>\n",
       "      <th>weight_kg</th>\n",
       "      <th>died_date</th>\n",
       "    </tr>\n",
       "  </thead>\n",
       "  <tbody>\n",
       "    <tr>\n",
       "      <th>0</th>\n",
       "      <td>1</td>\n",
       "      <td>Jean-François Blanchy</td>\n",
       "      <td>1886-12-12</td>\n",
       "      <td>Bordeaux</td>\n",
       "      <td>Gironde</td>\n",
       "      <td>FRA</td>\n",
       "      <td>France</td>\n",
       "      <td>NaN</td>\n",
       "      <td>NaN</td>\n",
       "      <td>1960-10-02</td>\n",
       "    </tr>\n",
       "    <tr>\n",
       "      <th>1</th>\n",
       "      <td>2</td>\n",
       "      <td>Arnaud Boetsch</td>\n",
       "      <td>1969-04-01</td>\n",
       "      <td>Meulan</td>\n",
       "      <td>Yvelines</td>\n",
       "      <td>FRA</td>\n",
       "      <td>France</td>\n",
       "      <td>183.0</td>\n",
       "      <td>76.0</td>\n",
       "      <td>NaN</td>\n",
       "    </tr>\n",
       "    <tr>\n",
       "      <th>2</th>\n",
       "      <td>3</td>\n",
       "      <td>Jean Borotra</td>\n",
       "      <td>1898-08-13</td>\n",
       "      <td>Biarritz</td>\n",
       "      <td>Pyrénées-Atlantiques</td>\n",
       "      <td>FRA</td>\n",
       "      <td>France</td>\n",
       "      <td>183.0</td>\n",
       "      <td>76.0</td>\n",
       "      <td>1994-07-17</td>\n",
       "    </tr>\n",
       "    <tr>\n",
       "      <th>3</th>\n",
       "      <td>4</td>\n",
       "      <td>Jacques Brugnon</td>\n",
       "      <td>1895-05-11</td>\n",
       "      <td>Paris VIIIe</td>\n",
       "      <td>Paris</td>\n",
       "      <td>FRA</td>\n",
       "      <td>France</td>\n",
       "      <td>168.0</td>\n",
       "      <td>64.0</td>\n",
       "      <td>1978-03-20</td>\n",
       "    </tr>\n",
       "    <tr>\n",
       "      <th>4</th>\n",
       "      <td>5</td>\n",
       "      <td>Albert Canet</td>\n",
       "      <td>1878-04-17</td>\n",
       "      <td>Wandsworth</td>\n",
       "      <td>England</td>\n",
       "      <td>GBR</td>\n",
       "      <td>France</td>\n",
       "      <td>NaN</td>\n",
       "      <td>NaN</td>\n",
       "      <td>1930-07-25</td>\n",
       "    </tr>\n",
       "  </tbody>\n",
       "</table>\n",
       "</div>"
      ],
      "text/plain": [
       "   athlete_id                   name   born_date    born_city  \\\n",
       "0           1  Jean-François Blanchy  1886-12-12     Bordeaux   \n",
       "1           2         Arnaud Boetsch  1969-04-01       Meulan   \n",
       "2           3           Jean Borotra  1898-08-13     Biarritz   \n",
       "3           4        Jacques Brugnon  1895-05-11  Paris VIIIe   \n",
       "4           5           Albert Canet  1878-04-17   Wandsworth   \n",
       "\n",
       "            born_region born_country     NOC  height_cm  weight_kg   died_date  \n",
       "0               Gironde          FRA  France        NaN        NaN  1960-10-02  \n",
       "1              Yvelines          FRA  France      183.0       76.0         NaN  \n",
       "2  Pyrénées-Atlantiques          FRA  France      183.0       76.0  1994-07-17  \n",
       "3                 Paris          FRA  France      168.0       64.0  1978-03-20  \n",
       "4               England          GBR  France        NaN        NaN  1930-07-25  "
      ]
     },
     "execution_count": 3,
     "metadata": {},
     "output_type": "execute_result"
    }
   ],
   "source": [
    "df.head()"
   ]
  },
  {
   "cell_type": "code",
   "execution_count": 4,
   "id": "f3dff8c7",
   "metadata": {},
   "outputs": [],
   "source": [
    "players_height=df[df[\"born_country\"]==\"IND\"][[\"name\",\"height_cm\"]]"
   ]
  },
  {
   "cell_type": "code",
   "execution_count": 6,
   "id": "aba06f23",
   "metadata": {},
   "outputs": [
    {
     "data": {
      "text/html": [
       "<div>\n",
       "<style scoped>\n",
       "    .dataframe tbody tr th:only-of-type {\n",
       "        vertical-align: middle;\n",
       "    }\n",
       "\n",
       "    .dataframe tbody tr th {\n",
       "        vertical-align: top;\n",
       "    }\n",
       "\n",
       "    .dataframe thead th {\n",
       "        text-align: right;\n",
       "    }\n",
       "</style>\n",
       "<table border=\"1\" class=\"dataframe\">\n",
       "  <thead>\n",
       "    <tr style=\"text-align: right;\">\n",
       "      <th></th>\n",
       "      <th>athlete_id</th>\n",
       "      <th>name</th>\n",
       "      <th>born_date</th>\n",
       "      <th>born_city</th>\n",
       "      <th>born_region</th>\n",
       "      <th>born_country</th>\n",
       "      <th>NOC</th>\n",
       "      <th>height_cm</th>\n",
       "      <th>weight_kg</th>\n",
       "      <th>died_date</th>\n",
       "    </tr>\n",
       "  </thead>\n",
       "  <tbody>\n",
       "    <tr>\n",
       "      <th>80</th>\n",
       "      <td>81</td>\n",
       "      <td>George Caridia</td>\n",
       "      <td>1869-02-20</td>\n",
       "      <td>Kolkata (Calcutta)</td>\n",
       "      <td>West Bengal</td>\n",
       "      <td>IND</td>\n",
       "      <td>Great Britain</td>\n",
       "      <td>NaN</td>\n",
       "      <td>NaN</td>\n",
       "      <td>1937-04-21</td>\n",
       "    </tr>\n",
       "    <tr>\n",
       "      <th>101</th>\n",
       "      <td>102</td>\n",
       "      <td>Algernon Kingscote</td>\n",
       "      <td>1888-02-03</td>\n",
       "      <td>Bengaluru (Bangalore)</td>\n",
       "      <td>Karnataka</td>\n",
       "      <td>IND</td>\n",
       "      <td>Great Britain</td>\n",
       "      <td>NaN</td>\n",
       "      <td>NaN</td>\n",
       "      <td>1964-12-21</td>\n",
       "    </tr>\n",
       "    <tr>\n",
       "      <th>270</th>\n",
       "      <td>271</td>\n",
       "      <td>Nora Polley</td>\n",
       "      <td>1894-07-29</td>\n",
       "      <td>Budaun</td>\n",
       "      <td>Uttar Pradesh</td>\n",
       "      <td>IND</td>\n",
       "      <td>India</td>\n",
       "      <td>NaN</td>\n",
       "      <td>NaN</td>\n",
       "      <td>1988-01-01</td>\n",
       "    </tr>\n",
       "    <tr>\n",
       "      <th>273</th>\n",
       "      <td>274</td>\n",
       "      <td>Zeeshan Ali</td>\n",
       "      <td>1970-01-01</td>\n",
       "      <td>Kolkata (Calcutta)</td>\n",
       "      <td>West Bengal</td>\n",
       "      <td>IND</td>\n",
       "      <td>India</td>\n",
       "      <td>180.0</td>\n",
       "      <td>64.0</td>\n",
       "      <td>NaN</td>\n",
       "    </tr>\n",
       "    <tr>\n",
       "      <th>274</th>\n",
       "      <td>275</td>\n",
       "      <td>Anand Amritraj</td>\n",
       "      <td>1952-03-20</td>\n",
       "      <td>Chennai (Madras)</td>\n",
       "      <td>Tamil Nadu</td>\n",
       "      <td>IND</td>\n",
       "      <td>India</td>\n",
       "      <td>185.0</td>\n",
       "      <td>77.0</td>\n",
       "      <td>NaN</td>\n",
       "    </tr>\n",
       "    <tr>\n",
       "      <th>...</th>\n",
       "      <td>...</td>\n",
       "      <td>...</td>\n",
       "      <td>...</td>\n",
       "      <td>...</td>\n",
       "      <td>...</td>\n",
       "      <td>...</td>\n",
       "      <td>...</td>\n",
       "      <td>...</td>\n",
       "      <td>...</td>\n",
       "      <td>...</td>\n",
       "    </tr>\n",
       "    <tr>\n",
       "      <th>140286</th>\n",
       "      <td>143790</td>\n",
       "      <td>Bajrang Punia</td>\n",
       "      <td>1994-02-26</td>\n",
       "      <td>Khudan</td>\n",
       "      <td>Haryana</td>\n",
       "      <td>IND</td>\n",
       "      <td>India</td>\n",
       "      <td>NaN</td>\n",
       "      <td>NaN</td>\n",
       "      <td>NaN</td>\n",
       "    </tr>\n",
       "    <tr>\n",
       "      <th>140287</th>\n",
       "      <td>143791</td>\n",
       "      <td>Deepak Punia</td>\n",
       "      <td>1999-05-19</td>\n",
       "      <td>Jhajjar</td>\n",
       "      <td>Haryana</td>\n",
       "      <td>IND</td>\n",
       "      <td>India</td>\n",
       "      <td>NaN</td>\n",
       "      <td>NaN</td>\n",
       "      <td>NaN</td>\n",
       "    </tr>\n",
       "    <tr>\n",
       "      <th>143996</th>\n",
       "      <td>147660</td>\n",
       "      <td>Sumit Nagal</td>\n",
       "      <td>1997-08-16</td>\n",
       "      <td>Jhajjar</td>\n",
       "      <td>Haryana</td>\n",
       "      <td>IND</td>\n",
       "      <td>India</td>\n",
       "      <td>NaN</td>\n",
       "      <td>NaN</td>\n",
       "      <td>NaN</td>\n",
       "    </tr>\n",
       "    <tr>\n",
       "      <th>144114</th>\n",
       "      <td>147784</td>\n",
       "      <td>Diksha Dagar</td>\n",
       "      <td>2000-12-14</td>\n",
       "      <td>Jhajjar</td>\n",
       "      <td>Haryana</td>\n",
       "      <td>IND</td>\n",
       "      <td>India</td>\n",
       "      <td>174.0</td>\n",
       "      <td>NaN</td>\n",
       "      <td>NaN</td>\n",
       "    </tr>\n",
       "    <tr>\n",
       "      <th>144757</th>\n",
       "      <td>148458</td>\n",
       "      <td>Arif Khan</td>\n",
       "      <td>1990-03-09</td>\n",
       "      <td>Gulmarg</td>\n",
       "      <td>Jammu and Kashmir</td>\n",
       "      <td>IND</td>\n",
       "      <td>India</td>\n",
       "      <td>NaN</td>\n",
       "      <td>NaN</td>\n",
       "      <td>NaN</td>\n",
       "    </tr>\n",
       "  </tbody>\n",
       "</table>\n",
       "<p>536 rows × 10 columns</p>\n",
       "</div>"
      ],
      "text/plain": [
       "        athlete_id                name   born_date              born_city  \\\n",
       "80              81      George Caridia  1869-02-20     Kolkata (Calcutta)   \n",
       "101            102  Algernon Kingscote  1888-02-03  Bengaluru (Bangalore)   \n",
       "270            271         Nora Polley  1894-07-29                 Budaun   \n",
       "273            274         Zeeshan Ali  1970-01-01     Kolkata (Calcutta)   \n",
       "274            275      Anand Amritraj  1952-03-20       Chennai (Madras)   \n",
       "...            ...                 ...         ...                    ...   \n",
       "140286      143790       Bajrang Punia  1994-02-26                 Khudan   \n",
       "140287      143791        Deepak Punia  1999-05-19                Jhajjar   \n",
       "143996      147660         Sumit Nagal  1997-08-16                Jhajjar   \n",
       "144114      147784        Diksha Dagar  2000-12-14                Jhajjar   \n",
       "144757      148458           Arif Khan  1990-03-09                Gulmarg   \n",
       "\n",
       "              born_region born_country            NOC  height_cm  weight_kg  \\\n",
       "80            West Bengal          IND  Great Britain        NaN        NaN   \n",
       "101             Karnataka          IND  Great Britain        NaN        NaN   \n",
       "270         Uttar Pradesh          IND          India        NaN        NaN   \n",
       "273           West Bengal          IND          India      180.0       64.0   \n",
       "274            Tamil Nadu          IND          India      185.0       77.0   \n",
       "...                   ...          ...            ...        ...        ...   \n",
       "140286            Haryana          IND          India        NaN        NaN   \n",
       "140287            Haryana          IND          India        NaN        NaN   \n",
       "143996            Haryana          IND          India        NaN        NaN   \n",
       "144114            Haryana          IND          India      174.0        NaN   \n",
       "144757  Jammu and Kashmir          IND          India        NaN        NaN   \n",
       "\n",
       "         died_date  \n",
       "80      1937-04-21  \n",
       "101     1964-12-21  \n",
       "270     1988-01-01  \n",
       "273            NaN  \n",
       "274            NaN  \n",
       "...            ...  \n",
       "140286         NaN  \n",
       "140287         NaN  \n",
       "143996         NaN  \n",
       "144114         NaN  \n",
       "144757         NaN  \n",
       "\n",
       "[536 rows x 10 columns]"
      ]
     },
     "execution_count": 6,
     "metadata": {},
     "output_type": "execute_result"
    }
   ],
   "source": [
    "df[df[\"born_country\"]==\"IND\"]"
   ]
  },
  {
   "cell_type": "code",
   "execution_count": 8,
   "id": "a67a3d9a",
   "metadata": {},
   "outputs": [],
   "source": [
    "players_height_copy=players_height.copy()"
   ]
  },
  {
   "cell_type": "code",
   "execution_count": null,
   "id": "53dedd74",
   "metadata": {},
   "outputs": [
    {
     "data": {
      "text/plain": [
       "numpy.float64"
      ]
     },
     "execution_count": 16,
     "metadata": {},
     "output_type": "execute_result"
    }
   ],
   "source": [
    "type(players_height_copy.iloc[0,1])\n",
    "\n",
    "# type(players_height_copy[0][\"height_cm\"])"
   ]
  },
  {
   "cell_type": "code",
   "execution_count": 17,
   "id": "0ac74095",
   "metadata": {},
   "outputs": [],
   "source": [
    "import matplotlib.pyplot as plt"
   ]
  },
  {
   "cell_type": "code",
   "execution_count": 34,
   "id": "3d0d812e",
   "metadata": {},
   "outputs": [
    {
     "data": {
      "image/png": "[encoded data removed]",
      "text/plain": [
       "<Figure size 640x480 with 1 Axes>"
      ]
     },
     "metadata": {},
     "output_type": "display_data"
    }
   ],
   "source": [
    "plt.scatter(df[\"height_cm\"],df[\"weight_kg\"],alpha=0.2)\n",
    "plt.xlabel(\"Height\")\n",
    "plt.ylabel(\"weight\")\n",
    "plt.show()\n"
   ]
  },
  {
   "cell_type": "code",
   "execution_count": 45,
   "id": "4e1978a5",
   "metadata": {},
   "outputs": [
    {
     "data": {
      "text/plain": [
       "born_country\n",
       "AFG        25\n",
       "AGU         2\n",
       "ALB        45\n",
       "ALG       177\n",
       "AND        37\n",
       "         ... \n",
       "VIN         8\n",
       "Vienna     11\n",
       "YEM         4\n",
       "ZAM        64\n",
       "ZIM       107\n",
       "Name: name, Length: 236, dtype: int64"
      ]
     },
     "execution_count": 45,
     "metadata": {},
     "output_type": "execute_result"
    }
   ],
   "source": [
    "con_count=df.groupby(\"born_country\")[\"name\"].count()\n",
    "con_count"
   ]
  },
  {
   "cell_type": "code",
   "execution_count": 51,
   "id": "6792dca8",
   "metadata": {},
   "outputs": [],
   "source": [
    "country=con_count.index\n",
    "count=con_count.iloc[0]"
   ]
  },
  {
   "cell_type": "code",
   "execution_count": 54,
   "id": "3be33c39",
   "metadata": {},
   "outputs": [
    {
     "ename": "IndexError",
     "evalue": "invalid index to scalar variable.",
     "output_type": "error",
     "traceback": [
      "\u001b[31m---------------------------------------------------------------------------\u001b[39m",
      "\u001b[31mIndexError\u001b[39m                                Traceback (most recent call last)",
      "\u001b[36mCell\u001b[39m\u001b[36m \u001b[39m\u001b[32mIn[54]\u001b[39m\u001b[32m, line 1\u001b[39m\n\u001b[32m----> \u001b[39m\u001b[32m1\u001b[39m plt.bar(country[:\u001b[32m10\u001b[39m],\u001b[43mcount\u001b[49m\u001b[43m[\u001b[49m\u001b[43m:\u001b[49m\u001b[32;43m10\u001b[39;49m\u001b[43m]\u001b[49m)\n",
      "\u001b[31mIndexError\u001b[39m: invalid index to scalar variable."
     ]
    }
   ],
   "source": [
    "plt.bar(country[:10],count[:10])"
   ]
  },
  {
   "cell_type": "code",
   "execution_count": 24,
   "id": "ec7c56a8",
   "metadata": {},
   "outputs": [],
   "source": [
    "from sklearn.impute import SimpleImputer\n",
    "imputer=SimpleImputer(strategy=\"mean\")"
   ]
  },
  {
   "cell_type": "code",
   "execution_count": 27,
   "id": "ff215568",
   "metadata": {},
   "outputs": [],
   "source": [
    "# players_height_copy[\"height_cm\"]=imputer.fit_transform(players_height_copy[\"height_cm\"])\n",
    "# players_height_copy.head()"
   ]
  },
  {
   "cell_type": "code",
   "execution_count": 29,
   "id": "ae96e247",
   "metadata": {},
   "outputs": [
    {
     "data": {
      "text/plain": [
       "athlete_id           0\n",
       "name                 0\n",
       "born_date         1807\n",
       "born_city        34592\n",
       "born_region      34592\n",
       "born_country     34592\n",
       "NOC                  1\n",
       "height_cm        38849\n",
       "weight_kg        43430\n",
       "died_date       111560\n",
       "dtype: int64"
      ]
     },
     "execution_count": 29,
     "metadata": {},
     "output_type": "execute_result"
    }
   ],
   "source": [
    "df.isnull().sum()"
   ]
  },
  {
   "cell_type": "code",
   "execution_count": 33,
   "id": "7600ad91",
   "metadata": {},
   "outputs": [
    {
     "data": {
      "text/plain": [
       "0           NaN\n",
       "1         183.0\n",
       "2         183.0\n",
       "3         168.0\n",
       "4           NaN\n",
       "          ...  \n",
       "145495    167.0\n",
       "145496    168.0\n",
       "145497    163.0\n",
       "145498    166.0\n",
       "145499      NaN\n",
       "Name: height_cm, Length: 145500, dtype: float64"
      ]
     },
     "execution_count": 33,
     "metadata": {},
     "output_type": "execute_result"
    }
   ],
   "source": [
    "df[\"height_cm\"]"
   ]
  },
  {
   "cell_type": "code",
   "execution_count": 30,
   "id": "74df56a5",
   "metadata": {},
   "outputs": [
    {
     "data": {
      "text/plain": [
       "0         176.333724\n",
       "1         183.000000\n",
       "2         183.000000\n",
       "3         168.000000\n",
       "4         176.333724\n",
       "             ...    \n",
       "145495    167.000000\n",
       "145496    168.000000\n",
       "145497    163.000000\n",
       "145498    166.000000\n",
       "145499    176.333724\n",
       "Name: height_cm, Length: 145500, dtype: float64"
      ]
     },
     "execution_count": 30,
     "metadata": {},
     "output_type": "execute_result"
    }
   ],
   "source": [
    "df[\"height_cm\"].fillna(df[\"height_cm\"].mean())"
   ]
  },
  {
   "cell_type": "code",
   "execution_count": 31,
   "id": "a57117ed",
   "metadata": {},
   "outputs": [
    {
     "data": {
      "text/plain": [
       "0       NaN\n",
       "1     183.0\n",
       "2     183.0\n",
       "3     168.0\n",
       "4       NaN\n",
       "5     181.0\n",
       "6     180.0\n",
       "7       NaN\n",
       "8       NaN\n",
       "9       NaN\n",
       "10      NaN\n",
       "11      NaN\n",
       "12      NaN\n",
       "13      NaN\n",
       "14    165.0\n",
       "15      NaN\n",
       "16    189.0\n",
       "17    178.0\n",
       "18      NaN\n",
       "19      NaN\n",
       "20      NaN\n",
       "21      NaN\n",
       "22      NaN\n",
       "23      NaN\n",
       "24      NaN\n",
       "25    184.0\n",
       "26    177.0\n",
       "27      NaN\n",
       "28      NaN\n",
       "29      NaN\n",
       "Name: height_cm, dtype: float64"
      ]
     },
     "execution_count": 31,
     "metadata": {},
     "output_type": "execute_result"
    }
   ],
   "source": [
    "df[\"height_cm\"].head(30)"
   ]
  },
  {
   "cell_type": "code",
   "execution_count": null,
   "id": "9854cc5e",
   "metadata": {},
   "outputs": [],
   "source": []
  }
 ],
 "metadata": {
  "kernelspec": {
   "display_name": ".venv",
   "language": "python",
   "name": "python3"
  },
  "language_info": {
   "codemirror_mode": {
    "name": "ipython",
    "version": 3
   },
   "file_extension": ".py",
   "mimetype": "text/x-python",
   "name": "python",
   "nbconvert_exporter": "python",
   "pygments_lexer": "ipython3",
   "version": "3.13.3"
  }
 },
 "nbformat": 4,
 "nbformat_minor": 5
}
