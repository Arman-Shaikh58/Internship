{
 "cells": [
  {
   "cell_type": "code",
   "execution_count": 1,
   "id": "7a8d3da6",
   "metadata": {},
   "outputs": [],
   "source": [
    "import numpy as np"
   ]
  },
  {
   "cell_type": "code",
   "execution_count": 2,
   "id": "60575f37",
   "metadata": {},
   "outputs": [],
   "source": [
    "#this is a vector\n",
    "vec=np.array(\n",
    "    [1,2,3,4,5]\n",
    ")"
   ]
  },
  {
   "cell_type": "code",
   "execution_count": 3,
   "id": "5a1b6dca",
   "metadata": {},
   "outputs": [
    {
     "data": {
      "text/plain": [
       "array([1, 2, 3, 4, 5])"
      ]
     },
     "execution_count": 3,
     "metadata": {},
     "output_type": "execute_result"
    }
   ],
   "source": [
    "vec"
   ]
  },
  {
   "cell_type": "code",
   "execution_count": 5,
   "id": "de0c51dd",
   "metadata": {},
   "outputs": [],
   "source": [
    "#this is a matrix\n",
    "mat1=np.array([\n",
    "    [1,2,3],\n",
    "    [4,5,6],\n",
    "    [7,8,9]\n",
    "])\n",
    "mat2=np.array([\n",
    "    [11,12,13],\n",
    "    [14,15,16],\n",
    "    [17,18,19]\n",
    "])"
   ]
  },
  {
   "cell_type": "code",
   "execution_count": 6,
   "id": "3fc6d110",
   "metadata": {},
   "outputs": [
    {
     "name": "stdout",
     "output_type": "stream",
     "text": [
      "[[12 14 16]\n",
      " [18 20 22]\n",
      " [24 26 28]]\n"
     ]
    }
   ],
   "source": [
    "#Addition of matrix\n",
    "print(mat1+mat2)"
   ]
  },
  {
   "cell_type": "code",
   "execution_count": 7,
   "id": "979d96cc",
   "metadata": {},
   "outputs": [
    {
     "name": "stdout",
     "output_type": "stream",
     "text": [
      "[[-10 -10 -10]\n",
      " [-10 -10 -10]\n",
      " [-10 -10 -10]]\n"
     ]
    }
   ],
   "source": [
    "#Substration of matrix\n",
    "print(mat1-mat2)"
   ]
  },
  {
   "cell_type": "code",
   "execution_count": 9,
   "id": "d2e6daba",
   "metadata": {},
   "outputs": [
    {
     "name": "stdout",
     "output_type": "stream",
     "text": [
      "[[ 11  24  39]\n",
      " [ 56  75  96]\n",
      " [119 144 171]]\n"
     ]
    }
   ],
   "source": [
    "#Multiplication of matrix\n",
    "print(mat1*mat2)#i think this is normal multiplication"
   ]
  },
  {
   "cell_type": "code",
   "execution_count": 10,
   "id": "a6c89052",
   "metadata": {},
   "outputs": [
    {
     "name": "stdout",
     "output_type": "stream",
     "text": [
      "[[ 90  96 102]\n",
      " [216 231 246]\n",
      " [342 366 390]]\n"
     ]
    }
   ],
   "source": [
    "#Dot Multiplication of matrix\n",
    "print(np.dot(mat1,mat2))"
   ]
  },
  {
   "cell_type": "code",
   "execution_count": 11,
   "id": "685de5e6",
   "metadata": {},
   "outputs": [
    {
     "name": "stdout",
     "output_type": "stream",
     "text": [
      "[[ 90  96 102]\n",
      " [216 231 246]\n",
      " [342 366 390]]\n"
     ]
    }
   ],
   "source": [
    "#Other way for dot multiplication\n",
    "print(mat1@mat2)"
   ]
  },
  {
   "cell_type": "code",
   "execution_count": 20,
   "id": "4119ce97",
   "metadata": {},
   "outputs": [
    {
     "name": "stdout",
     "output_type": "stream",
     "text": [
      "[[1 4 7]\n",
      " [2 5 8]\n",
      " [3 6 9]]\n"
     ]
    }
   ],
   "source": [
    "#transpose of matrix 1\n",
    "print(mat1.T)"
   ]
  },
  {
   "cell_type": "code",
   "execution_count": 12,
   "id": "fdd4054b",
   "metadata": {},
   "outputs": [],
   "source": [
    "#identitiy matrix\n",
    "iden1=np.array([\n",
    "    [1,0,0],\n",
    "    [0,1,0],\n",
    "    [0,0,1],\n",
    "    \n",
    "])"
   ]
  },
  {
   "cell_type": "code",
   "execution_count": 13,
   "id": "dbf8d8b8",
   "metadata": {},
   "outputs": [
    {
     "data": {
      "text/plain": [
       "array([[1, 0, 0],\n",
       "       [0, 1, 0],\n",
       "       [0, 0, 1]])"
      ]
     },
     "execution_count": 13,
     "metadata": {},
     "output_type": "execute_result"
    }
   ],
   "source": [
    "iden1"
   ]
  },
  {
   "cell_type": "code",
   "execution_count": 16,
   "id": "4615e8da",
   "metadata": {},
   "outputs": [
    {
     "data": {
      "text/plain": [
       "array([[1., 0., 0., 0.],\n",
       "       [0., 1., 0., 0.],\n",
       "       [0., 0., 1., 0.],\n",
       "       [0., 0., 0., 1.]])"
      ]
     },
     "execution_count": 16,
     "metadata": {},
     "output_type": "execute_result"
    }
   ],
   "source": [
    "#another way of identity matrix\n",
    "iden2=np.identity(4)\n",
    "iden2"
   ]
  },
  {
   "cell_type": "code",
   "execution_count": 19,
   "id": "489410a2",
   "metadata": {},
   "outputs": [
    {
     "data": {
      "text/plain": [
       "array([1, 5, 9])"
      ]
     },
     "execution_count": 19,
     "metadata": {},
     "output_type": "execute_result"
    }
   ],
   "source": [
    "np.diagonal(mat1)#return diagonal elements of the matrix"
   ]
  },
  {
   "cell_type": "markdown",
   "id": "eb3e017a",
   "metadata": {},
   "source": [
    "Solving Linear Equations "
   ]
  },
  {
   "cell_type": "code",
   "execution_count": null,
   "id": "de65cd27",
   "metadata": {},
   "outputs": [],
   "source": [
    "#suppose i have 2 equation \n",
    "#   2x + 4y = 4\n",
    "#   3x + y  = 10\n",
    "\n",
    "#in 10th we used to solve this by either substituion of prediting values but i think in ML we use \n",
    "# MATRIX : basic notation for that is\n",
    "# Ax=b\n",
    "#Here: A is matrix of coefficients\n",
    "#      x is matrix of variables\n",
    "#      b is matrix of answer\n",
    "#if we organise this correctly that Equation will be\n",
    "#  x=A^-1*b or inverse of A multiply by b"
   ]
  },
  {
   "cell_type": "code",
   "execution_count": 47,
   "id": "3ff2c80e",
   "metadata": {},
   "outputs": [],
   "source": [
    "A=np.array([\n",
    "    [2,4],\n",
    "    [3,1]\n",
    "])\n",
    "b=np.array([4,10])\n"
   ]
  },
  {
   "cell_type": "code",
   "execution_count": 44,
   "id": "a0341d4e",
   "metadata": {},
   "outputs": [
    {
     "name": "stdout",
     "output_type": "stream",
     "text": [
      "[ 3.6 -0.8]\n"
     ]
    }
   ],
   "source": [
    "A=np.linalg.inv(A)\n",
    "x=np.dot(A,b)\n",
    "print(x)"
   ]
  },
  {
   "cell_type": "code",
   "execution_count": 46,
   "id": "8d946225",
   "metadata": {},
   "outputs": [
    {
     "name": "stdout",
     "output_type": "stream",
     "text": [
      "[ 3.6 -0.8]\n"
     ]
    }
   ],
   "source": [
    "#simply\n",
    "print(np.linalg.solve(A,b))"
   ]
  },
  {
   "cell_type": "code",
   "execution_count": 53,
   "id": "3631cf4c",
   "metadata": {},
   "outputs": [
    {
     "data": {
      "image/png": "[encoded data removed]",
      "text/plain": [
       "<Figure size 640x480 with 1 Axes>"
      ]
     },
     "metadata": {},
     "output_type": "display_data"
    }
   ],
   "source": [
    "import matplotlib.pyplot as plt\n",
    "#   2x + 4y = 4\n",
    "#   3x + y  = 10\n",
    "\n",
    "X_data=np.linspace(0,10,2)\n",
    "eq1_y=[(4-(2*i))/4 for i in X_data]\n",
    "eq2_y=[(10-(3*i)) for i in X_data]\n",
    "plt.plot(X_data,eq1_y,\"ro--\")\n",
    "plt.plot(X_data,eq2_y,\"bo--\")\n",
    "plt.legend(\"eq1= 2x + 4y = 4 & eq2= 3x + y  = 10\")\n",
    "plt.grid(True)\n",
    "\n"
   ]
  },
  {
   "cell_type": "code",
   "execution_count": null,
   "id": "5773337a",
   "metadata": {},
   "outputs": [],
   "source": []
  }
 ],
 "metadata": {
  "kernelspec": {
   "display_name": ".venv",
   "language": "python",
   "name": "python3"
  },
  "language_info": {
   "codemirror_mode": {
    "name": "ipython",
    "version": 3
   },
   "file_extension": ".py",
   "mimetype": "text/x-python",
   "name": "python",
   "nbconvert_exporter": "python",
   "pygments_lexer": "ipython3",
   "version": "3.13.3"
  }
 },
 "nbformat": 4,
 "nbformat_minor": 5
}
